{
 "cells": [
  {
   "attachments": {},
   "cell_type": "markdown",
   "metadata": {},
   "source": [
    "# Example1\n",
    "**This is example 1. In this example, we build a Gaussian process regression surrogate model without transition learning. We then check the validity of its contribution. The test data is evaluated using the R2 indicator.**\n",
    "\n",
    "First, we define the formulas to be covered by the surrogate model. For simplicity, we assume that the equation consists of a sin function and a linear function."
   ]
  },
  {
   "cell_type": "code",
   "execution_count": 1,
   "metadata": {},
   "outputs": [],
   "source": [
    "import numpy as np\n",
    "\n",
    "def target_function(x1, x2):\n",
    "    return np.sin(x1) + 0.001*x2 "
   ]
  },
  {
   "attachments": {},
   "cell_type": "markdown",
   "metadata": {},
   "source": [
    "Next, input points are sampled and we create training data."
   ]
  },
  {
   "cell_type": "code",
   "execution_count": 6,
   "metadata": {},
   "outputs": [
    {
     "name": "stdout",
     "output_type": "stream",
     "text": [
      "(20, 2) (20, 1)\n"
     ]
    }
   ],
   "source": [
    "import TL_GPRSM.utils.sampling as sampling\n",
    "\n",
    "train_x = sampling.latin_hypercube_sampling(20, 2, False)\n",
    "train_x = sampling.uniform_scaling(train_x, scale_mins=np.array([-np.pi, -np.pi]), scale_maxs=np.array([np.pi, np.pi]))\n",
    "train_y = target_function(train_x[:,0], train_x[:,1])[:,np.newaxis]\n",
    "print(train_x.shape, train_y.shape)"
   ]
  },
  {
   "attachments": {},
   "cell_type": "markdown",
   "metadata": {},
   "source": [
    "GPR surrogate model is constructed and trained."
   ]
  },
  {
   "cell_type": "code",
   "execution_count": 7,
   "metadata": {},
   "outputs": [
    {
     "name": "stderr",
     "output_type": "stream",
     "text": [
      " c:\\Users\\saida\\pyvenv\\surrogate_model\\lib\\site-packages\\paramz\\transformations.py:111: RuntimeWarning:overflow encountered in expm1\n"
     ]
    },
    {
     "name": "stdout",
     "output_type": "stream",
     "text": [
      "Optimization restart 1/5, f = -38.336666877699955\n",
      "Optimization restart 2/5, f = -38.97225775415404\n",
      "Optimization restart 3/5, f = -38.79956467639866\n",
      "Optimization restart 4/5, f = -38.60778805069633\n",
      "Optimization restart 5/5, f = -38.97225773051527\n"
     ]
    }
   ],
   "source": [
    "import TL_GPRSM.models.GPRSM as GPRSM\n",
    "gprsm = GPRSM(train_x, train_y, kernel_name=\"Matern52\", is_ard=True)\n",
    "gprsm.optimize(max_iter=1e4, num_restarts=5)"
   ]
  },
  {
   "attachments": {},
   "cell_type": "markdown",
   "metadata": {},
   "source": [
    "Check the ARD contribution. I think you can see the contribution of x2 is very small."
   ]
  },
  {
   "cell_type": "code",
   "execution_count": 8,
   "metadata": {},
   "outputs": [
    {
     "name": "stdout",
     "output_type": "stream",
     "text": [
      "[9.99066030e+01 9.33970203e-02]\n"
     ]
    }
   ],
   "source": [
    "ard_contribution = gprsm.get_ard_contribution()\n",
    "print(ard_contribution)"
   ]
  },
  {
   "attachments": {},
   "cell_type": "markdown",
   "metadata": {},
   "source": [
    "Create test data and predict data by GPRSM."
   ]
  },
  {
   "cell_type": "code",
   "execution_count": 10,
   "metadata": {},
   "outputs": [],
   "source": [
    "test_x = sampling.latin_hypercube_sampling(10000, 2, False)\n",
    "test_x = sampling.uniform_scaling(test_x, scale_mins=np.array([-np.pi, -np.pi]), scale_maxs=np.array([np.pi, np.pi]))\n",
    "test_y = target_function(test_x[:,0], test_x[:,1])[:,np.newaxis]\n",
    "predict_mean, predict_var = gprsm.predict(test_x)"
   ]
  },
  {
   "attachments": {},
   "cell_type": "markdown",
   "metadata": {},
   "source": [
    "Evaluate predicted values with r2 index."
   ]
  },
  {
   "cell_type": "code",
   "execution_count": 11,
   "metadata": {},
   "outputs": [
    {
     "name": "stdout",
     "output_type": "stream",
     "text": [
      "0.9999993588483727\n"
     ]
    }
   ],
   "source": [
    "import TL_GPRSM.utils.metrics as metrics\n",
    "\n",
    "r2_index = metrics.r2_index(test_y, predict_mean)\n",
    "print(r2_index)"
   ]
  },
  {
   "attachments": {},
   "cell_type": "markdown",
   "metadata": {},
   "source": [
    "Plot the predicted values with matplotlib."
   ]
  },
  {
   "cell_type": "code",
   "execution_count": 12,
   "metadata": {},
   "outputs": [
    {
     "data": {
      "image/png": "[encoded data removed]",
      "text/plain": [
       "<Figure size 640x480 with 1 Axes>"
      ]
     },
     "metadata": {},
     "output_type": "display_data"
    }
   ],
   "source": [
    "import matplotlib.pyplot as plt\n",
    "\n",
    "plt.plot(test_x[:,0], predict_mean, \".\")\n",
    "plt.show()"
   ]
  }
 ],
 "metadata": {
  "kernelspec": {
   "display_name": "surrogate_model",
   "language": "python",
   "name": "python3"
  },
  "language_info": {
   "codemirror_mode": {
    "name": "ipython",
    "version": 3
   },
   "file_extension": ".py",
   "mimetype": "text/x-python",
   "name": "python",
   "nbconvert_exporter": "python",
   "pygments_lexer": "ipython3",
   "version": "3.8.10"
  },
  "orig_nbformat": 4
 },
 "nbformat": 4,
 "nbformat_minor": 2
}
